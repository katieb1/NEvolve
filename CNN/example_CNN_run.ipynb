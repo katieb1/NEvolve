{
 "cells": [
  {
   "cell_type": "code",
   "execution_count": 2,
   "metadata": {},
   "outputs": [
    {
     "name": "stdout",
     "output_type": "stream",
     "text": [
      "Using device: cpu\n",
      "[1,     5] loss: 256.027\n",
      "[2,     5] loss: 254.757\n",
      "[3,     5] loss: 59.778\n",
      "[4,     5] loss: 212.158\n",
      "[5,     5] loss: 53.160\n",
      "[6,     5] loss: 235.015\n",
      "[7,     5] loss: 249.054\n",
      "[8,     5] loss: 249.805\n",
      "[9,     5] loss: 232.098\n",
      "[10,     5] loss: 229.312\n",
      "[11,     5] loss: 208.079\n",
      "[12,     5] loss: 245.951\n",
      "[13,     5] loss: 227.792\n",
      "[14,     5] loss: 36.846\n",
      "[15,     5] loss: 242.283\n",
      "[16,     5] loss: 221.609\n",
      "[17,     5] loss: 235.185\n",
      "[18,     5] loss: 189.846\n",
      "[19,     5] loss: 109.144\n",
      "[20,     5] loss: 80.494\n",
      "Finished Training\n",
      "Total time run: 0.5484 minutes\n"
     ]
    }
   ],
   "source": [
    "import CNN_draft1\n",
    "from torchsummary import summary"
   ]
  },
  {
   "cell_type": "code",
   "execution_count": 6,
   "metadata": {},
   "outputs": [
    {
     "data": {
      "text/plain": [
       "<module 'CNN_draft1' from '/Users/katie/queens_bio/NE_project/NEvolve/CNN/CNN_draft1.py'>"
      ]
     },
     "execution_count": 6,
     "metadata": {},
     "output_type": "execute_result"
    }
   ],
   "source": [
    "CNN_draft1"
   ]
  },
  {
   "cell_type": "code",
   "execution_count": 3,
   "metadata": {},
   "outputs": [
    {
     "name": "stdout",
     "output_type": "stream",
     "text": [
      "Using device: cpu\n",
      "[1,     5] loss: 249.174\n",
      "[2,     5] loss: 252.605\n",
      "[3,     5] loss: 244.031\n",
      "[4,     5] loss: 248.902\n",
      "[5,     5] loss: 55.146\n",
      "[6,     5] loss: 246.693\n",
      "[7,     5] loss: 229.727\n",
      "[8,     5] loss: 219.940\n",
      "[9,     5] loss: 221.729\n",
      "[10,     5] loss: 61.732\n",
      "[11,     5] loss: 37.484\n",
      "[12,     5] loss: 63.574\n",
      "[13,     5] loss: 246.033\n",
      "[14,     5] loss: 218.565\n",
      "[15,     5] loss: 233.243\n",
      "[16,     5] loss: 223.542\n",
      "[17,     5] loss: 228.256\n",
      "[18,     5] loss: 228.390\n",
      "[19,     5] loss: 251.229\n",
      "[20,     5] loss: 244.705\n",
      "Finished Training\n",
      "Total time run: 0.5650 minutes\n"
     ]
    }
   ],
   "source": [
    "%run 'CNN_draft1.py'"
   ]
  },
  {
   "cell_type": "code",
   "execution_count": 4,
   "metadata": {},
   "outputs": [
    {
     "data": {
      "text/plain": [
       "<All keys matched successfully>"
      ]
     },
     "execution_count": 4,
     "metadata": {},
     "output_type": "execute_result"
    }
   ],
   "source": [
    "model = Net()\n",
    "model.load_state_dict(torch.load('./test.pth'))"
   ]
  },
  {
   "cell_type": "code",
   "execution_count": 18,
   "metadata": {},
   "outputs": [],
   "source": [
    "with np.load('./toy_dat/sliced_data.npz') as data:\n",
    "    param = data['param']\n",
    "    raw_sim = data['sim']\n",
    "    pos = data['pos']\n",
    "\t\n",
    "# Normalize to mean of 0, sd of 1\n",
    "\n",
    "sim = (raw_sim - 0.5) / 0.5 # May need something more efficient for the full set?\n",
    "# print(raw_sim[0,1])\n",
    "# print(sim[0,1])\n",
    "\n",
    "tensor = torch.from_numpy(sim)\n",
    "tensor = tensor.double()\n",
    "tensor = tensor.unsqueeze(dim = 1)"
   ]
  },
  {
   "cell_type": "code",
   "execution_count": 19,
   "metadata": {},
   "outputs": [],
   "source": [
    "new_p = np.array([list(item) for item in param])\n",
    "new_p = new_p[:, 2:7]\n",
    "new_p = torch.from_numpy(np.array(new_p))\n",
    "# print(new_p.shape)\n",
    "\n",
    "train = torch.utils.data.TensorDataset(tensor, new_p)\n",
    "\n",
    "trainloader = torch.utils.data.DataLoader(train, batch_size = 20,\n",
    "                                          shuffle = True)"
   ]
  },
  {
   "cell_type": "code",
   "execution_count": 32,
   "metadata": {},
   "outputs": [
    {
     "name": "stdout",
     "output_type": "stream",
     "text": [
      "----------------------------------------------------------------\n",
      "        Layer (type)               Output Shape         Param #\n",
      "================================================================\n",
      "            Conv2d-1          [20, 6, 68, 1259]             156\n",
      "         MaxPool2d-2           [20, 6, 17, 314]               0\n",
      "            Conv2d-3          [20, 16, 13, 310]           2,416\n",
      "         MaxPool2d-4            [20, 16, 3, 77]               0\n",
      "            Linear-5                  [20, 120]         443,640\n",
      "            Linear-6                   [20, 84]          10,164\n",
      "            Linear-7                    [20, 5]             425\n",
      "================================================================\n",
      "Total params: 456,801\n",
      "Trainable params: 456,801\n",
      "Non-trainable params: 0\n",
      "----------------------------------------------------------------\n",
      "Input size (MB): 6.94\n",
      "Forward/backward pass size (MB): 93.70\n",
      "Params size (MB): 1.74\n",
      "Estimated Total Size (MB): 102.38\n",
      "----------------------------------------------------------------\n"
     ]
    }
   ],
   "source": [
    "summary(model, input_size=(1, 72, 1263), batch_size=20)"
   ]
  },
  {
   "cell_type": "code",
   "execution_count": 30,
   "metadata": {},
   "outputs": [
    {
     "name": "stdout",
     "output_type": "stream",
     "text": [
      "Net(\n",
      "  (conv1): Conv2d(1, 6, kernel_size=(5, 5), stride=(1, 1))\n",
      "  (pool): MaxPool2d(kernel_size=4, stride=4, padding=0, dilation=1, ceil_mode=False)\n",
      "  (conv2): Conv2d(6, 16, kernel_size=(5, 5), stride=(1, 1))\n",
      "  (fc1): Linear(in_features=3696, out_features=120, bias=True)\n",
      "  (fc2): Linear(in_features=120, out_features=84, bias=True)\n",
      "  (fc3): Linear(in_features=84, out_features=5, bias=True)\n",
      ")\n"
     ]
    }
   ],
   "source": [
    "print(model)"
   ]
  }
 ],
 "metadata": {
  "kernelspec": {
   "display_name": "Python 3",
   "language": "python",
   "name": "python3"
  },
  "language_info": {
   "codemirror_mode": {
    "name": "ipython",
    "version": 3
   },
   "file_extension": ".py",
   "mimetype": "text/x-python",
   "name": "python",
   "nbconvert_exporter": "python",
   "pygments_lexer": "ipython3",
   "version": "3.7.6"
  }
 },
 "nbformat": 4,
 "nbformat_minor": 4
}
